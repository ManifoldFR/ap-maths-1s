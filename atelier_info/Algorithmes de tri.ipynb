{
 "cells": [
  {
   "cell_type": "code",
   "execution_count": 52,
   "metadata": {
    "collapsed": true,
    "deletable": true,
    "editable": true
   },
   "outputs": [],
   "source": [
    "from random import randint\n",
    "from time import time"
   ]
  },
  {
   "cell_type": "markdown",
   "metadata": {
    "deletable": true,
    "editable": true
   },
   "source": [
    "# Tri à bulle\n",
    "\n",
    "On désire trier une liste $l$ passée en argument de la manière suivante : on part du début de la liste, et on remonte en échangeant chaque élément avec son successeur s'il est plus grand que lui, de sorte qu'à chaque passage, on ait placé les plus grands éléments à la fin de la liste dans l'ordre croissant."
   ]
  },
  {
   "cell_type": "markdown",
   "metadata": {
    "deletable": true,
    "editable": true
   },
   "source": [
    "Dans le pire des cas, cet algorithme effectue $O(N^2)$ opérations, avec $N = \\mathrm{len}(l)$."
   ]
  },
  {
   "cell_type": "code",
   "execution_count": 40,
   "metadata": {
    "collapsed": true,
    "deletable": true,
    "editable": true
   },
   "outputs": [],
   "source": [
    "def tri_bulle(l, debug=False):\n",
    "    N = len(l)\n",
    "    def remontee(i):\n",
    "        \"\"\"\n",
    "        Remonte l'élément d'indice i tant que c'est possible\n",
    "        \"\"\"\n",
    "        if i < N-1:\n",
    "            if l[i+1] < l[i]:\n",
    "                l[i+1],l[i] = l[i], l[i+1]\n",
    "                remontee(i+1)\n",
    "            else:\n",
    "                remontee(i+1)\n",
    "    \n",
    "    for i in range(N):\n",
    "        remontee(0)\n",
    "        if debug: print(l)"
   ]
  },
  {
   "cell_type": "code",
   "execution_count": 43,
   "metadata": {
    "collapsed": true,
    "deletable": true,
    "editable": true
   },
   "outputs": [],
   "source": [
    "l = [5,-2,6,72]"
   ]
  },
  {
   "cell_type": "code",
   "execution_count": 44,
   "metadata": {
    "collapsed": false,
    "deletable": true,
    "editable": true,
    "scrolled": false
   },
   "outputs": [
    {
     "name": "stdout",
     "output_type": "stream",
     "text": [
      "[-2, 5, 6, 72]\n",
      "[-2, 5, 6, 72]\n",
      "[-2, 5, 6, 72]\n",
      "[-2, 5, 6, 72]\n"
     ]
    }
   ],
   "source": [
    "tri_bulle(l, debug=True)"
   ]
  },
  {
   "cell_type": "code",
   "execution_count": 38,
   "metadata": {
    "collapsed": false,
    "deletable": true,
    "editable": true
   },
   "outputs": [
    {
     "name": "stdout",
     "output_type": "stream",
     "text": [
      "[32, 10, 46, 42, 17, 33, 32, 14, 16, 19, 32, 31, 8, 46, 49, 1, 18, 3, 36, 31, 27, 37, 45, 5, 10, 12, 30, 22, 37, 16, 4, 49, 11, 37, 7, 15, 19, 27, 4, 39, 9, 40, 14, 31, 38, 34, 17, 26, 34, 6, 17, 4, 31, 7, 2, 33, 37, 23, 44, 36, 27, 34, 37, 4, 42, 15, 4, 48, 41, 3, 38, 17, 0, 47, 11, 50, 43, 29, 8, 4, 10, 36, 32, 48, 6, 18, 22, 16, 15, 3, 43, 24, 25, 33, 18, 19, 44, 35, 46, 4, 13, 11, 37, 35, 22, 38, 29, 19, 30, 43, 18, 7, 8, 33, 8, 27, 6, 46, 10, 4, 19, 10, 43, 28, 50, 35, 16, 11, 50, 0, 12, 30, 46, 28, 2, 44, 26, 11, 22, 11, 30, 35, 12, 5, 42, 49, 38, 19, 35, 0, 48, 31, 37, 4, 32, 2, 43, 20, 44, 2, 4, 40, 23, 38, 41, 42, 45, 49, 35, 27, 17, 38, 37, 37, 40, 17, 31, 13, 9, 39, 46, 46, 14, 4, 16, 24, 22, 35, 32, 47, 6, 8, 4, 34, 5, 37, 21, 24, 20, 49, 16, 34, 16, 13, 22, 4, 39, 2, 37, 42, 47, 6, 8, 43, 21, 24, 23, 20, 39, 14, 14, 17, 45, 34, 26, 43, 2, 21, 44, 12, 13, 29, 46, 25, 7, 22, 43, 46, 37, 3, 33, 35, 39, 8, 2, 40, 24, 26, 50, 48, 33, 8, 2, 6, 31, 42, 31, 6, 19, 35, 17, 12, 19, 0, 46, 50, 8, 44, 34, 45, 35, 33, 8, 21, 23, 1, 5, 41, 1, 33, 7, 18, 0, 43, 35, 8, 39, 38, 13, 23, 8, 0, 6, 20, 38, 31, 31, 31, 35, 0, 12, 30, 45, 37, 0, 21, 30, 4, 13, 2, 23, 48, 20, 20, 43, 12, 43, 12, 46, 6, 44, 5, 3, 9, 30, 20, 42, 45, 10, 22, 35, 2, 46, 36, 50, 15, 43, 27, 49, 39, 38, 34, 2, 44, 21, 47, 13, 32, 20, 14, 18, 32, 34, 4, 30, 12, 18, 26, 19, 17, 18, 32, 8, 49, 5, 35, 13, 47, 20, 28, 38, 33, 17, 43, 39, 35, 15, 44, 12, 14, 6, 3, 17, 17, 29, 35, 40, 49, 39, 16, 5, 16, 10, 22, 44, 29, 6, 9, 18, 47, 32, 0, 33, 19, 18, 32, 41, 28, 39, 30, 40, 44, 6, 25, 5, 32, 37, 2, 33, 39, 13, 45, 29, 10, 28, 34, 30, 41, 10, 42, 32, 17, 26, 43, 26, 15, 7, 18, 41, 2, 5, 2, 41, 27, 21, 17, 4, 45, 13, 11, 6, 15, 28, 24, 15, 37, 40, 28, 48, 14, 31, 31, 30, 46, 41, 23, 4, 47, 27, 16, 26, 38, 36, 19, 11, 18, 6, 26, 17, 7, 28, 46, 32, 23, 39, 36, 25, 44, 22, 41, 2, 20, 6, 44, 43, 41, 49, 22, 31, 36, 2, 3, 26, 25, 36, 5, 27, 25, 22, 30, 21, 31]\n"
     ]
    }
   ],
   "source": [
    "N = 512\n",
    "l = [randint(0,50) for i in range(N)]\n",
    "print(l)"
   ]
  },
  {
   "cell_type": "code",
   "execution_count": 39,
   "metadata": {
    "collapsed": false,
    "deletable": true,
    "editable": true
   },
   "outputs": [
    {
     "name": "stdout",
     "output_type": "stream",
     "text": [
      "[0, 0, 0, 0, 0, 0, 0, 0, 0, 1, 1, 1, 2, 2, 2, 2, 2, 2, 2, 2, 2, 2, 2, 2, 2, 2, 2, 2, 3, 3, 3, 3, 3, 3, 3, 4, 4, 4, 4, 4, 4, 4, 4, 4, 4, 4, 4, 4, 4, 4, 4, 4, 5, 5, 5, 5, 5, 5, 5, 5, 5, 5, 6, 6, 6, 6, 6, 6, 6, 6, 6, 6, 6, 6, 6, 6, 6, 7, 7, 7, 7, 7, 7, 7, 8, 8, 8, 8, 8, 8, 8, 8, 8, 8, 8, 8, 8, 9, 9, 9, 9, 10, 10, 10, 10, 10, 10, 10, 10, 10, 11, 11, 11, 11, 11, 11, 11, 11, 12, 12, 12, 12, 12, 12, 12, 12, 12, 12, 13, 13, 13, 13, 13, 13, 13, 13, 13, 13, 14, 14, 14, 14, 14, 14, 14, 14, 15, 15, 15, 15, 15, 15, 15, 15, 16, 16, 16, 16, 16, 16, 16, 16, 16, 16, 17, 17, 17, 17, 17, 17, 17, 17, 17, 17, 17, 17, 17, 17, 17, 18, 18, 18, 18, 18, 18, 18, 18, 18, 18, 18, 18, 19, 19, 19, 19, 19, 19, 19, 19, 19, 19, 19, 20, 20, 20, 20, 20, 20, 20, 20, 20, 20, 21, 21, 21, 21, 21, 21, 21, 21, 22, 22, 22, 22, 22, 22, 22, 22, 22, 22, 22, 22, 23, 23, 23, 23, 23, 23, 23, 23, 24, 24, 24, 24, 24, 24, 25, 25, 25, 25, 25, 25, 26, 26, 26, 26, 26, 26, 26, 26, 26, 26, 27, 27, 27, 27, 27, 27, 27, 27, 27, 28, 28, 28, 28, 28, 28, 28, 28, 29, 29, 29, 29, 29, 29, 30, 30, 30, 30, 30, 30, 30, 30, 30, 30, 30, 30, 31, 31, 31, 31, 31, 31, 31, 31, 31, 31, 31, 31, 31, 31, 31, 32, 32, 32, 32, 32, 32, 32, 32, 32, 32, 32, 32, 32, 32, 33, 33, 33, 33, 33, 33, 33, 33, 33, 33, 33, 34, 34, 34, 34, 34, 34, 34, 34, 34, 34, 35, 35, 35, 35, 35, 35, 35, 35, 35, 35, 35, 35, 35, 35, 35, 35, 36, 36, 36, 36, 36, 36, 36, 36, 37, 37, 37, 37, 37, 37, 37, 37, 37, 37, 37, 37, 37, 37, 37, 38, 38, 38, 38, 38, 38, 38, 38, 38, 38, 38, 39, 39, 39, 39, 39, 39, 39, 39, 39, 39, 39, 39, 40, 40, 40, 40, 40, 40, 40, 41, 41, 41, 41, 41, 41, 41, 41, 41, 41, 42, 42, 42, 42, 42, 42, 42, 42, 43, 43, 43, 43, 43, 43, 43, 43, 43, 43, 43, 43, 43, 43, 43, 44, 44, 44, 44, 44, 44, 44, 44, 44, 44, 44, 44, 44, 45, 45, 45, 45, 45, 45, 45, 45, 46, 46, 46, 46, 46, 46, 46, 46, 46, 46, 46, 46, 46, 46, 47, 47, 47, 47, 47, 47, 47, 48, 48, 48, 48, 48, 48, 49, 49, 49, 49, 49, 49, 49, 49, 49, 50, 50, 50, 50, 50, 50]\n"
     ]
    }
   ],
   "source": [
    "tri_bulle(l)\n",
    "\n",
    "print(l)"
   ]
  },
  {
   "cell_type": "markdown",
   "metadata": {
    "deletable": true,
    "editable": true
   },
   "source": [
    "# Tri pivot\n",
    "\n",
    "L'idée c'est la suivante: on prend un élément de référence, appelé *pivot*, et on sépare la liste $l$ en deux listes, les plus petits que le pivot, et les plus grands. Ensuite, on trie ces deux listes avec moins d'éléments.\n",
    "\n",
    "L'algorithme termine puisque forcément, on tombera sur une liste à un seul élément, ce qui permettra de remonter..."
   ]
  },
  {
   "cell_type": "code",
   "execution_count": 49,
   "metadata": {
    "collapsed": true,
    "deletable": true,
    "editable": true
   },
   "outputs": [],
   "source": [
    "def tri_pivot(l):\n",
    "    N = len(l)\n",
    "    \n",
    "    if N>0:\n",
    "        iPiv = N//2\n",
    "        valPiv = l[iPiv]\n",
    "        \n",
    "        petits = []\n",
    "        grands = []\n",
    "        \n",
    "        for i in range(N):\n",
    "            if valPiv < l[i]:\n",
    "                grands.append(l[i])\n",
    "            elif valPiv > l[i]:\n",
    "                petits.append(l[i])\n",
    "            elif i != iPiv:\n",
    "                grands.append(l[i])\n",
    "        tri_pivot(petits)\n",
    "        tri_pivot(grands)\n",
    "        \n",
    "        l[:] = petits + [valPiv] + grands"
   ]
  },
  {
   "cell_type": "code",
   "execution_count": 50,
   "metadata": {
    "collapsed": false,
    "deletable": true,
    "editable": true
   },
   "outputs": [
    {
     "name": "stdout",
     "output_type": "stream",
     "text": [
      "[-15, 8, 6, 9, 3, -4, 2, 13, 9, -15, 5, 13, 12, 4, 8, -12, -2, -4, -11, 9, -14, -15, -4, 15, -13, 1, -7, -5, -15, -2, -10, 7, -8, 14, -14, 3, 7, -14, -7, 9, 1, 12, 14, -2, -6, 13, 15, -3, -10, -8, 5, 15, 6, -10, 3, 12, 6, 7, -10, -12, 13, -11, -5, 2, 4, -13, 10, 13, 13, 3, 12, 13, 6, -2, -5, 11, -1, -1, 2, 5, -2, 0, -6, 5, 12, 8, -15, -6, -5, -10, 11, -4, -2, -6, 15, 11, 13, -10, 13, -13, -15, -6, -2, 6, -12, 14, -9, -12, -4, 5, -12, -8, 10, 12, -9, 12, 1, 10, -11, -10, -13, -12, 1, 2, 15, -3, -11, 12, 7, 5, -10, -13, 15, 7, -5, 1, 2, 5, -13, 5, -12, 8, 7, 14, 4, -3, 0, -12, 4, 4, -2, 11, 2, 7, -9, -14, 4, 13, -4, 14, -10, 15, 13, -11, -14, 15, -11, 6, 1, -10, 8, -4, 11, 3, -14, -12, -14, 8, 4, 12, 7, 10, 13, -13, -1, 9, 10, -2, -5, -10, 8, -13, 10, 12, -5, -13, 14, 13, 8, 3, -13, -6, -3, -13, 0, -6, 6, 15, 14, 3, 2, -8, 1, 1, 6, 6, 3, -13, 10, -11, -4, -4, -11, -4, 1, 1, -1, 2, 5, 5, 1, 12, -1, 13, -10, 11, -12, -7, -8, -12, 9, -2, 11, 12, 11, 10, 6, -15, -12, -1, -12, -2, -12, -3, 1, -15]\n"
     ]
    }
   ],
   "source": [
    "l = [randint(-15,15) for i in range(256)]\n",
    "print(l)"
   ]
  },
  {
   "cell_type": "code",
   "execution_count": 51,
   "metadata": {
    "collapsed": false,
    "deletable": true,
    "editable": true
   },
   "outputs": [
    {
     "name": "stdout",
     "output_type": "stream",
     "text": [
      "[-15, -15, -15, -15, -15, -15, -15, -15, -14, -14, -14, -14, -14, -14, -14, -13, -13, -13, -13, -13, -13, -13, -13, -13, -13, -13, -13, -12, -12, -12, -12, -12, -12, -12, -12, -12, -12, -12, -12, -12, -12, -11, -11, -11, -11, -11, -11, -11, -11, -10, -10, -10, -10, -10, -10, -10, -10, -10, -10, -10, -10, -9, -9, -9, -8, -8, -8, -8, -8, -7, -7, -7, -6, -6, -6, -6, -6, -6, -6, -5, -5, -5, -5, -5, -5, -5, -4, -4, -4, -4, -4, -4, -4, -4, -4, -4, -3, -3, -3, -3, -3, -2, -2, -2, -2, -2, -2, -2, -2, -2, -2, -2, -1, -1, -1, -1, -1, -1, 0, 0, 0, 1, 1, 1, 1, 1, 1, 1, 1, 1, 1, 1, 1, 2, 2, 2, 2, 2, 2, 2, 2, 3, 3, 3, 3, 3, 3, 3, 3, 4, 4, 4, 4, 4, 4, 4, 5, 5, 5, 5, 5, 5, 5, 5, 5, 5, 6, 6, 6, 6, 6, 6, 6, 6, 6, 6, 7, 7, 7, 7, 7, 7, 7, 7, 8, 8, 8, 8, 8, 8, 8, 8, 9, 9, 9, 9, 9, 9, 10, 10, 10, 10, 10, 10, 10, 10, 11, 11, 11, 11, 11, 11, 11, 11, 12, 12, 12, 12, 12, 12, 12, 12, 12, 12, 12, 12, 13, 13, 13, 13, 13, 13, 13, 13, 13, 13, 13, 13, 13, 13, 14, 14, 14, 14, 14, 14, 14, 15, 15, 15, 15, 15, 15, 15, 15, 15]\n"
     ]
    }
   ],
   "source": [
    "tri_pivot(l)\n",
    "print(l)"
   ]
  },
  {
   "cell_type": "markdown",
   "metadata": {
    "deletable": true,
    "editable": true
   },
   "source": [
    "# Chronos\n",
    "\n",
    "On crée une fonction `chrono` qui chronomètre le temps pris par une méthode donnée pour trier une liste aléatoire de $N$ éléments."
   ]
  },
  {
   "cell_type": "code",
   "execution_count": 85,
   "metadata": {
    "collapsed": false,
    "deletable": true,
    "editable": true
   },
   "outputs": [],
   "source": [
    "dicoTris = {\"bulle\":tri_bulle, \"pivot\":tri_pivot}\n",
    "\n",
    "def chrono(nomTri, N, passes=10):\n",
    "    \"\"\"\n",
    "    tri : méthode de tri, chaîne de caractère\n",
    "    \"\"\"\n",
    "    tri = dicoTris[nomTri]\n",
    "    temps = []\n",
    "    for _ in range(passes):\n",
    "        l = [randint(-20,20) for i in range(N)]\n",
    "        debut = time()\n",
    "        tri(l)\n",
    "        fin = time()\n",
    "        temps.append(fin-debut)\n",
    "    moy = sum(temps)/passes\n",
    "    return moy"
   ]
  },
  {
   "cell_type": "markdown",
   "metadata": {
    "deletable": true,
    "editable": true
   },
   "source": [
    "## Pour le tri bulle"
   ]
  },
  {
   "cell_type": "code",
   "execution_count": 86,
   "metadata": {
    "collapsed": true,
    "deletable": true,
    "editable": true
   },
   "outputs": [],
   "source": [
    "%matplotlib inline\n",
    "import matplotlib.pyplot as plt"
   ]
  },
  {
   "cell_type": "code",
   "execution_count": 87,
   "metadata": {
    "collapsed": false,
    "deletable": true,
    "editable": true
   },
   "outputs": [],
   "source": [
    "def test(nomtri,a,b, passes=10):\n",
    "    valeurs_temps = []\n",
    "    \n",
    "    tailles = list(range(a,b))\n",
    "    for N in range(a,b):\n",
    "        valeurs_temps.append(chrono(nomtri, N, passes))\n",
    "\n",
    "    fig, ax = plt.subplots(1,1)\n",
    "    ax.grid(True)\n",
    "    ax.plot(tailles,valeurs_temps)\n",
    "    ax.set_title(\"Temps d'execution du tri \"+nomtri)"
   ]
  },
  {
   "cell_type": "code",
   "execution_count": 84,
   "metadata": {
    "collapsed": false,
    "deletable": true,
    "editable": true
   },
   "outputs": [
    {
     "data": {
      "image/png": "[encoded data removed]",
      "text/plain": [
       "<matplotlib.figure.Figure at 0x7bd9750>"
      ]
     },
     "metadata": {},
     "output_type": "display_data"
    }
   ],
   "source": [
    "test(\"bulle\", 32,256)"
   ]
  },
  {
   "cell_type": "markdown",
   "metadata": {},
   "source": [
    "## Pour le tri pivot"
   ]
  },
  {
   "cell_type": "code",
   "execution_count": 92,
   "metadata": {
    "collapsed": false,
    "deletable": true,
    "editable": true
   },
   "outputs": [
    {
     "data": {
      "image/png": "[encoded data removed]",
      "text/plain": [
       "<matplotlib.figure.Figure at 0x7491030>"
      ]
     },
     "metadata": {},
     "output_type": "display_data"
    }
   ],
   "source": [
    "test(\"pivot\",64,256,512)"
   ]
  },
  {
   "cell_type": "markdown",
   "metadata": {
    "deletable": true,
    "editable": true
   },
   "source": [
    "# Tri fusion"
   ]
  },
  {
   "cell_type": "code",
   "execution_count": 139,
   "metadata": {
    "collapsed": true,
    "deletable": true,
    "editable": true
   },
   "outputs": [],
   "source": [
    "def tri_fusion(l):\n",
    "    N = len(l)\n",
    "    \n",
    "    def fusion(l1, l2):\n",
    "        out = []\n",
    "        while len(l1)>0 and len(l2)>0:\n",
    "            a,b = l1.pop(),l2.pop()\n",
    "            if a < b:\n",
    "                out.append(a)\n",
    "                out.append(b)\n",
    "            else:\n",
    "                out.append(b)\n",
    "                out.append(a)\n",
    "        while len(l1) > 0:\n",
    "            out.append(l1.pop())\n",
    "        while len(l2) > 0:\n",
    "            out.append(l2.pop())\n",
    "        return out\n",
    "    if N>1:\n",
    "        l1 = []\n",
    "        l2 = []\n",
    "        for i in range(N):\n",
    "            if i%2 == 0:\n",
    "                l1.append(l[i])\n",
    "            else:\n",
    "                l2.append(l[i])\n",
    "\n",
    "        tri_fusion(l1)\n",
    "        tri_fusion(l2)\n",
    "        l[:] = fusion(l1, l2)"
   ]
  },
  {
   "cell_type": "code",
   "execution_count": 140,
   "metadata": {
    "collapsed": false,
    "deletable": true,
    "editable": true
   },
   "outputs": [
    {
     "name": "stdout",
     "output_type": "stream",
     "text": [
      "[16, 8, 2, 15, 8, 12, 12, 10, 20]\n"
     ]
    }
   ],
   "source": [
    "l = [randint(0,20) for _ in range(9)]\n",
    "print(l)"
   ]
  },
  {
   "cell_type": "code",
   "execution_count": 141,
   "metadata": {
    "collapsed": false,
    "deletable": true,
    "editable": true
   },
   "outputs": [
    {
     "name": "stdout",
     "output_type": "stream",
     "text": [
      "[8, 10, 8, 20, 2, 15, 12, 16, 12]\n"
     ]
    }
   ],
   "source": [
    "tri_fusion(l)\n",
    "print(l)"
   ]
  },
  {
   "cell_type": "markdown",
   "metadata": {
    "deletable": true,
    "editable": true
   },
   "source": [
    "Soit $\\Omega = {[\\![0,p-1]\\!]}^N$ l'ensemble des listes d'entiers entre $0$ et $p-1$, et $\\mathcal A  = \\mathcal P(\\Omega)$ la tribu discrète. On muni l'espace probabilisable $(\\Omega,\\mathcal A)$ de la mesure de probabilité uniforme:\n",
    "$$\n",
    "\\forall l\\in\\Omega\\quad \\mathbb P(\\{l\\}) = \\frac{1}{|\\Omega|} = \\frac{1}{p^N}\n",
    "$$"
   ]
  },
  {
   "cell_type": "markdown",
   "metadata": {},
   "source": [
    "Soit $X:\\Omega\\longrightarrow [\\![0,p-1]\\!]$ la variable aléatoire égale au nombre d'éléments plus petits que le pivot (l'élément d'indice $d=\\lfloor N/2\\rfloor$).\n",
    "\n",
    "On a\n",
    "$$\n",
    "\\omega \\in [X=k] \\Leftrightarrow \\left(\\exists I\\in\\mathcal P_k([\\![0,p-1]\\!]\\setminus\\{d\\})\\quad  [\\omega_i \\le \\omega_d\\Leftrightarrow i\\in I]\\right)\n",
    "$$"
   ]
  },
  {
   "cell_type": "markdown",
   "metadata": {},
   "source": [
    "Le cardinal de l'ensemble de droite est\n",
    "$$\n",
    "\\sum_{I\\subset [\\![0,p-1]\\!]\\setminus\\{d\\}, |I|= k}\n",
    "$$"
   ]
  }
 ],
 "metadata": {
  "kernelspec": {
   "display_name": "Python 2",
   "language": "python",
   "name": "python2"
  },
  "language_info": {
   "codemirror_mode": {
    "name": "ipython",
    "version": 2
   },
   "file_extension": ".py",
   "mimetype": "text/x-python",
   "name": "python",
   "nbconvert_exporter": "python",
   "pygments_lexer": "ipython2",
   "version": "2.7.12"
  }
 },
 "nbformat": 4,
 "nbformat_minor": 2
}
