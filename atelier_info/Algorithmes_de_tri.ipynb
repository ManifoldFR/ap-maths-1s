{
 "cells": [
  {
   "cell_type": "code",
   "execution_count": 1,
   "metadata": {
    "collapsed": true,
    "deletable": true,
    "editable": true
   },
   "outputs": [],
   "source": [
    "from random import randint\n",
    "from time import time"
   ]
  },
  {
   "cell_type": "markdown",
   "metadata": {
    "deletable": true,
    "editable": true
   },
   "source": [
    "# Tri à bulle\n",
    "\n",
    "On désire trier une liste $l$ passée en argument de la manière suivante : on part du début de la liste, et on remonte en échangeant chaque élément avec son successeur s'il est plus grand que lui, de sorte qu'à chaque passage, on ait placé les plus grands éléments à la fin de la liste dans l'ordre croissant."
   ]
  },
  {
   "cell_type": "markdown",
   "metadata": {
    "deletable": true,
    "editable": true
   },
   "source": [
    "Dans le pire des cas, cet algorithme effectue $O(N^2)$ opérations, avec $N = \\mathrm{len}(l)$."
   ]
  },
  {
   "cell_type": "code",
   "execution_count": 2,
   "metadata": {
    "collapsed": true,
    "deletable": true,
    "editable": true
   },
   "outputs": [],
   "source": [
    "def tri_bulle(l, debug=False):\n",
    "    N = len(l)\n",
    "    def remontee(i):\n",
    "        \"\"\"\n",
    "        Remonte l'élément d'indice i tant que c'est possible\n",
    "        \"\"\"\n",
    "        if i < N-1:\n",
    "            if l[i+1] < l[i]:\n",
    "                l[i+1],l[i] = l[i], l[i+1]\n",
    "                remontee(i+1)\n",
    "            else:\n",
    "                remontee(i+1)\n",
    "    \n",
    "    for i in range(N):\n",
    "        remontee(0)\n",
    "        if debug: print(l)"
   ]
  },
  {
   "cell_type": "code",
   "execution_count": 3,
   "metadata": {
    "collapsed": true,
    "deletable": true,
    "editable": true
   },
   "outputs": [],
   "source": [
    "l = [5,-2,6,72]"
   ]
  },
  {
   "cell_type": "code",
   "execution_count": 4,
   "metadata": {
    "collapsed": false,
    "deletable": true,
    "editable": true,
    "scrolled": false
   },
   "outputs": [
    {
     "name": "stdout",
     "output_type": "stream",
     "text": [
      "[-2, 5, 6, 72]\n",
      "[-2, 5, 6, 72]\n",
      "[-2, 5, 6, 72]\n",
      "[-2, 5, 6, 72]\n"
     ]
    }
   ],
   "source": [
    "tri_bulle(l, debug=True)"
   ]
  },
  {
   "cell_type": "code",
   "execution_count": 5,
   "metadata": {
    "collapsed": false,
    "deletable": true,
    "editable": true
   },
   "outputs": [
    {
     "name": "stdout",
     "output_type": "stream",
     "text": [
      "[3, 50, 46, 6, 44, 5, 48, 50, 20, 2, 14, 35, 50, 46, 43, 8, 37, 23, 32, 45, 10, 16, 47, 48, 50, 13, 18, 9, 46, 43, 43, 14, 19, 23, 27, 20, 11, 13, 32, 25, 5, 34, 4, 28, 21, 47, 18, 18, 48, 40, 1, 28, 19, 35, 24, 22, 29, 15, 20, 9, 40, 33, 36, 9, 5, 14, 16, 14, 34, 31, 41, 28, 27, 42, 17, 40, 33, 47, 35, 16, 34, 43, 28, 25, 3, 21, 28, 5, 25, 20, 27, 39, 14, 16, 28, 36, 21, 31, 13, 30, 3, 1, 19, 36, 6, 8, 17, 16, 44, 13, 38, 21, 9, 23, 16, 45, 7, 29, 47, 49, 32, 26, 42, 41, 50, 38, 41, 42, 48, 21, 47, 32, 42, 25, 46, 46, 29, 21, 13, 32, 12, 13, 31, 0, 0, 24, 27, 49, 6, 47, 31, 2, 24, 46, 14, 49, 7, 7, 22, 9, 13, 29, 15, 16, 39, 50, 1, 8, 18, 28, 27, 3, 47, 38, 21, 43, 35, 6, 39, 5, 32, 49, 26, 39, 22, 40, 21, 50, 34, 8, 44, 22, 46, 37, 11, 41, 45, 8, 28, 30, 34, 38, 42, 35, 1, 43, 32, 3, 12, 34, 19, 35, 44, 27, 7, 41, 6, 19, 4, 43, 50, 13, 39, 2, 19, 5, 47, 27, 11, 32, 45, 2, 30, 40, 38, 5, 23, 46, 19, 3, 31, 42, 17, 23, 21, 33, 23, 39, 22, 17, 18, 13, 14, 40, 5, 3, 12, 31, 9, 34, 9, 46, 50, 11, 45, 24, 2, 5, 20, 24, 13, 39, 22, 45, 47, 10, 35, 10, 3, 10, 45, 29, 29, 8, 3, 34, 23, 40, 40, 31, 8, 50, 14, 24, 9, 27, 45, 37, 46, 36, 24, 38, 18, 23, 26, 12, 10, 19, 26, 11, 18, 2, 10, 36, 26, 39, 32, 42, 6, 46, 34, 19, 29, 50, 41, 2, 14, 6, 33, 39, 10, 4, 48, 37, 43, 31, 27, 47, 5, 26, 41, 17, 47, 5, 39, 5, 29, 1, 45, 5, 16, 28, 42, 21, 49, 49, 43, 26, 45, 22, 46, 26, 21, 28, 9, 15, 1, 4, 13, 25, 0, 17, 22, 41, 38, 3, 49, 16, 28, 43, 18, 2, 28, 0, 50, 25, 19, 4, 41, 11, 3, 15, 12, 46, 32, 17, 45, 9, 19, 8, 8, 28, 29, 38, 11, 11, 30, 49, 27, 50, 1, 48, 7, 41, 40, 10, 30, 11, 15, 20, 10, 28, 14, 47, 23, 15, 31, 11, 8, 30, 38, 37, 19, 32, 32, 6, 38, 5, 7, 44, 46, 40, 32, 16, 47, 3, 33, 4, 41, 21, 8, 44, 11, 6, 20, 1, 1, 5, 7, 8, 8, 28, 41, 19, 39, 27, 42, 32, 24, 38, 38, 24, 18, 14, 31, 3, 13, 43, 34, 4, 14, 6, 11, 33, 48, 1, 41, 5, 30, 2, 46, 33, 6, 23, 36, 46, 38, 0, 40, 34, 30, 50, 37, 41, 16, 25, 5, 29, 1, 19, 33, 5]\n"
     ]
    }
   ],
   "source": [
    "N = 512\n",
    "l = [randint(0,50) for i in range(N)]\n",
    "print(l)"
   ]
  },
  {
   "cell_type": "code",
   "execution_count": 6,
   "metadata": {
    "collapsed": false,
    "deletable": true,
    "editable": true
   },
   "outputs": [
    {
     "name": "stdout",
     "output_type": "stream",
     "text": [
      "[0, 0, 0, 0, 0, 1, 1, 1, 1, 1, 1, 1, 1, 1, 1, 1, 2, 2, 2, 2, 2, 2, 2, 2, 2, 3, 3, 3, 3, 3, 3, 3, 3, 3, 3, 3, 3, 3, 4, 4, 4, 4, 4, 4, 4, 5, 5, 5, 5, 5, 5, 5, 5, 5, 5, 5, 5, 5, 5, 5, 5, 5, 5, 6, 6, 6, 6, 6, 6, 6, 6, 6, 6, 6, 7, 7, 7, 7, 7, 7, 7, 8, 8, 8, 8, 8, 8, 8, 8, 8, 8, 8, 8, 8, 9, 9, 9, 9, 9, 9, 9, 9, 9, 9, 10, 10, 10, 10, 10, 10, 10, 10, 10, 11, 11, 11, 11, 11, 11, 11, 11, 11, 11, 11, 11, 12, 12, 12, 12, 12, 13, 13, 13, 13, 13, 13, 13, 13, 13, 13, 13, 13, 14, 14, 14, 14, 14, 14, 14, 14, 14, 14, 14, 14, 15, 15, 15, 15, 15, 15, 16, 16, 16, 16, 16, 16, 16, 16, 16, 16, 16, 17, 17, 17, 17, 17, 17, 17, 18, 18, 18, 18, 18, 18, 18, 18, 18, 19, 19, 19, 19, 19, 19, 19, 19, 19, 19, 19, 19, 19, 19, 20, 20, 20, 20, 20, 20, 20, 21, 21, 21, 21, 21, 21, 21, 21, 21, 21, 21, 21, 22, 22, 22, 22, 22, 22, 22, 22, 23, 23, 23, 23, 23, 23, 23, 23, 23, 23, 24, 24, 24, 24, 24, 24, 24, 24, 24, 25, 25, 25, 25, 25, 25, 25, 26, 26, 26, 26, 26, 26, 26, 26, 27, 27, 27, 27, 27, 27, 27, 27, 27, 27, 27, 28, 28, 28, 28, 28, 28, 28, 28, 28, 28, 28, 28, 28, 28, 28, 29, 29, 29, 29, 29, 29, 29, 29, 29, 29, 30, 30, 30, 30, 30, 30, 30, 30, 31, 31, 31, 31, 31, 31, 31, 31, 31, 31, 32, 32, 32, 32, 32, 32, 32, 32, 32, 32, 32, 32, 32, 32, 33, 33, 33, 33, 33, 33, 33, 33, 34, 34, 34, 34, 34, 34, 34, 34, 34, 34, 34, 35, 35, 35, 35, 35, 35, 35, 36, 36, 36, 36, 36, 36, 37, 37, 37, 37, 37, 37, 38, 38, 38, 38, 38, 38, 38, 38, 38, 38, 38, 38, 38, 39, 39, 39, 39, 39, 39, 39, 39, 39, 39, 39, 40, 40, 40, 40, 40, 40, 40, 40, 40, 40, 40, 41, 41, 41, 41, 41, 41, 41, 41, 41, 41, 41, 41, 41, 41, 42, 42, 42, 42, 42, 42, 42, 42, 42, 43, 43, 43, 43, 43, 43, 43, 43, 43, 43, 43, 44, 44, 44, 44, 44, 44, 45, 45, 45, 45, 45, 45, 45, 45, 45, 45, 45, 46, 46, 46, 46, 46, 46, 46, 46, 46, 46, 46, 46, 46, 46, 46, 46, 47, 47, 47, 47, 47, 47, 47, 47, 47, 47, 47, 47, 47, 48, 48, 48, 48, 48, 48, 48, 49, 49, 49, 49, 49, 49, 49, 49, 50, 50, 50, 50, 50, 50, 50, 50, 50, 50, 50, 50, 50, 50]\n"
     ]
    }
   ],
   "source": [
    "tri_bulle(l)\n",
    "\n",
    "print(l)"
   ]
  },
  {
   "cell_type": "markdown",
   "metadata": {
    "deletable": true,
    "editable": true
   },
   "source": [
    "# Tri pivot\n",
    "\n",
    "L'idée c'est la suivante: on prend un élément de référence, appelé *pivot*, et on sépare la liste $l$ en deux listes, les plus petits que le pivot, et les plus grands. Ensuite, on trie ces deux listes avec moins d'éléments.\n",
    "\n",
    "L'algorithme termine puisque forcément, on tombera sur une liste à un seul élément, ce qui permettra de remonter..."
   ]
  },
  {
   "cell_type": "code",
   "execution_count": 7,
   "metadata": {
    "collapsed": true,
    "deletable": true,
    "editable": true
   },
   "outputs": [],
   "source": [
    "def tri_pivot(l):\n",
    "    N = len(l)\n",
    "    \n",
    "    if N>0:\n",
    "        iPiv = N//2\n",
    "        valPiv = l[iPiv]\n",
    "        \n",
    "        petits = []\n",
    "        grands = []\n",
    "        \n",
    "        for i in range(N):\n",
    "            if valPiv < l[i]:\n",
    "                grands.append(l[i])\n",
    "            elif valPiv > l[i]:\n",
    "                petits.append(l[i])\n",
    "            elif i != iPiv:\n",
    "                grands.append(l[i])\n",
    "        tri_pivot(petits)\n",
    "        tri_pivot(grands)\n",
    "        \n",
    "        l[:] = petits + [valPiv] + grands"
   ]
  },
  {
   "cell_type": "code",
   "execution_count": 8,
   "metadata": {
    "collapsed": false,
    "deletable": true,
    "editable": true
   },
   "outputs": [
    {
     "name": "stdout",
     "output_type": "stream",
     "text": [
      "[6, 8, 4, -2, -8, 9, 13, -7, -11, -15, -9, 3, 2, -12, 12, 4, 4, 1, 14, -14, 1, 2, -2, 4, -2, -12, 1, 5, 9, 1, -8, 2, 11, -12, 5, 12, 14, -3, -14, 6, 8, -14, -10, -9, 10, 4, 13, 3, -4, -4, -6, -10, 9, -2, -3, 9, -9, -2, -6, 9, 12, 9, 0, 0, -13, 14, 5, 13, 2, 5, -8, 9, 9, -7, 0, 8, -5, 5, -11, 13, -1, 1, -6, -15, 12, -4, 4, 0, -3, 9, 1, 9, -12, -13, -9, 3, -11, 13, 12, 2, -15, -2, 6, 11, 3, -14, 11, -7, 11, 6, -6, -3, -13, 7, 14, 0, 15, 0, -1, 13, -6, -10, 9, 15, -10, -6, -14, -4, -14, 15, 14, -3, 3, -7, 13, 4, 11, 8, -13, 0, 2, -3, 2, 2, -11, -13, 10, -1, -12, 2, 8, 3, 11, 14, 15, 2, -4, -4, -3, -4, 9, 4, 3, 4, 13, 11, 4, 1, -9, 2, 6, -8, -8, 5, 14, 5, 6, -1, 9, 15, 7, 1, -11, -10, -1, 8, 1, 5, -5, -9, 12, -2, -5, 10, 0, -13, -5, -11, -1, 5, -13, 2, 15, 4, -15, 13, -7, 0, -6, -7, 3, -9, -4, 8, -9, -1, 4, 3, -4, 6, 6, -7, 10, 7, -3, 5, -14, -15, -4, 3, 0, 2, -3, 1, -1, -5, -10, 4, -5, -1, 11, -10, 10, -1, -11, -8, -4, -7, -2, -9, 10, 14, 4, -6, 1, -15]\n"
     ]
    }
   ],
   "source": [
    "l = [randint(-15,15) for i in range(256)]\n",
    "print(l)"
   ]
  },
  {
   "cell_type": "code",
   "execution_count": 9,
   "metadata": {
    "collapsed": false,
    "deletable": true,
    "editable": true
   },
   "outputs": [
    {
     "name": "stdout",
     "output_type": "stream",
     "text": [
      "[-15, -15, -15, -15, -15, -15, -14, -14, -14, -14, -14, -14, -14, -13, -13, -13, -13, -13, -13, -13, -12, -12, -12, -12, -12, -11, -11, -11, -11, -11, -11, -11, -10, -10, -10, -10, -10, -10, -10, -9, -9, -9, -9, -9, -9, -9, -9, -9, -8, -8, -8, -8, -8, -8, -7, -7, -7, -7, -7, -7, -7, -7, -6, -6, -6, -6, -6, -6, -6, -6, -5, -5, -5, -5, -5, -5, -4, -4, -4, -4, -4, -4, -4, -4, -4, -4, -4, -3, -3, -3, -3, -3, -3, -3, -3, -3, -2, -2, -2, -2, -2, -2, -2, -2, -1, -1, -1, -1, -1, -1, -1, -1, -1, -1, 0, 0, 0, 0, 0, 0, 0, 0, 0, 0, 1, 1, 1, 1, 1, 1, 1, 1, 1, 1, 1, 2, 2, 2, 2, 2, 2, 2, 2, 2, 2, 2, 2, 2, 3, 3, 3, 3, 3, 3, 3, 3, 3, 3, 4, 4, 4, 4, 4, 4, 4, 4, 4, 4, 4, 4, 4, 4, 5, 5, 5, 5, 5, 5, 5, 5, 5, 5, 6, 6, 6, 6, 6, 6, 6, 6, 7, 7, 7, 8, 8, 8, 8, 8, 8, 8, 9, 9, 9, 9, 9, 9, 9, 9, 9, 9, 9, 9, 9, 10, 10, 10, 10, 10, 10, 11, 11, 11, 11, 11, 11, 11, 11, 12, 12, 12, 12, 12, 12, 13, 13, 13, 13, 13, 13, 13, 13, 13, 14, 14, 14, 14, 14, 14, 14, 14, 15, 15, 15, 15, 15, 15]\n"
     ]
    }
   ],
   "source": [
    "tri_pivot(l)\n",
    "print(l)"
   ]
  },
  {
   "cell_type": "markdown",
   "metadata": {
    "deletable": true,
    "editable": true
   },
   "source": [
    "# Chronos\n",
    "\n",
    "On crée une fonction `chrono` qui chronomètre le temps pris par une méthode donnée pour trier une liste aléatoire de $N$ éléments."
   ]
  },
  {
   "cell_type": "code",
   "execution_count": 10,
   "metadata": {
    "collapsed": false,
    "deletable": true,
    "editable": true
   },
   "outputs": [],
   "source": [
    "dicoTris = {\"bulle\":tri_bulle, \"pivot\":tri_pivot}\n",
    "\n",
    "def chrono(nomTri, N, passes=10):\n",
    "    \"\"\"\n",
    "    tri : méthode de tri, chaîne de caractère\n",
    "    \"\"\"\n",
    "    tri = dicoTris[nomTri]\n",
    "    temps = []\n",
    "    for _ in range(passes):\n",
    "        l = [randint(-20,20) for i in range(N)]\n",
    "        debut = time()\n",
    "        tri(l)\n",
    "        fin = time()\n",
    "        temps.append(fin-debut)\n",
    "    moy = sum(temps)/passes\n",
    "    return moy"
   ]
  },
  {
   "cell_type": "markdown",
   "metadata": {
    "deletable": true,
    "editable": true
   },
   "source": [
    "## Pour le tri bulle"
   ]
  },
  {
   "cell_type": "code",
   "execution_count": 11,
   "metadata": {
    "collapsed": true,
    "deletable": true,
    "editable": true
   },
   "outputs": [],
   "source": [
    "%matplotlib inline\n",
    "import matplotlib.pyplot as plt"
   ]
  },
  {
   "cell_type": "code",
   "execution_count": 12,
   "metadata": {
    "collapsed": false,
    "deletable": true,
    "editable": true
   },
   "outputs": [],
   "source": [
    "def test(nomtri,a,b, passes=10):\n",
    "    valeurs_temps = []\n",
    "    \n",
    "    tailles = list(range(a,b))\n",
    "    for N in range(a,b):\n",
    "        valeurs_temps.append(chrono(nomtri, N, passes))\n",
    "\n",
    "    fig, ax = plt.subplots(1,1)\n",
    "    ax.grid(True)\n",
    "    ax.plot(tailles,valeurs_temps)\n",
    "    ax.set_title(\"Temps d'execution du tri \"+nomtri)"
   ]
  },
  {
   "cell_type": "code",
   "execution_count": 13,
   "metadata": {
    "collapsed": false,
    "deletable": true,
    "editable": true
   },
   "outputs": [
    {
     "data": {
      "image/png": "[encoded data removed]",
      "text/plain": [
       "<matplotlib.figure.Figure at 0x17e513f36a0>"
      ]
     },
     "metadata": {},
     "output_type": "display_data"
    }
   ],
   "source": [
    "test(\"bulle\", 32,256)"
   ]
  },
  {
   "cell_type": "markdown",
   "metadata": {},
   "source": [
    "## Pour le tri pivot"
   ]
  },
  {
   "cell_type": "code",
   "execution_count": 14,
   "metadata": {
    "collapsed": false,
    "deletable": true,
    "editable": true
   },
   "outputs": [
    {
     "data": {
      "image/png": "[encoded data removed]",
      "text/plain": [
       "<matplotlib.figure.Figure at 0x17e53353fd0>"
      ]
     },
     "metadata": {},
     "output_type": "display_data"
    }
   ],
   "source": [
    "test(\"pivot\",64,256,512)"
   ]
  },
  {
   "cell_type": "markdown",
   "metadata": {
    "deletable": true,
    "editable": true
   },
   "source": [
    "# Tri fusion"
   ]
  },
  {
   "cell_type": "code",
   "execution_count": 139,
   "metadata": {
    "collapsed": true,
    "deletable": true,
    "editable": true
   },
   "outputs": [],
   "source": [
    "def tri_fusion(l):\n",
    "    N = len(l)\n",
    "    \n",
    "    def fusion(l1, l2):\n",
    "        out = []\n",
    "        while len(l1)>0 and len(l2)>0:\n",
    "            a,b = l1.pop(),l2.pop()\n",
    "            if a < b:\n",
    "                out.append(a)\n",
    "                out.append(b)\n",
    "            else:\n",
    "                out.append(b)\n",
    "                out.append(a)\n",
    "        while len(l1) > 0:\n",
    "            out.append(l1.pop())\n",
    "        while len(l2) > 0:\n",
    "            out.append(l2.pop())\n",
    "        return out\n",
    "    if N>1:\n",
    "        l1 = []\n",
    "        l2 = []\n",
    "        for i in range(N):\n",
    "            if i%2 == 0:\n",
    "                l1.append(l[i])\n",
    "            else:\n",
    "                l2.append(l[i])\n",
    "\n",
    "        tri_fusion(l1)\n",
    "        tri_fusion(l2)\n",
    "        l[:] = fusion(l1, l2)"
   ]
  },
  {
   "cell_type": "code",
   "execution_count": 140,
   "metadata": {
    "collapsed": false,
    "deletable": true,
    "editable": true
   },
   "outputs": [
    {
     "name": "stdout",
     "output_type": "stream",
     "text": [
      "[16, 8, 2, 15, 8, 12, 12, 10, 20]\n"
     ]
    }
   ],
   "source": [
    "l = [randint(0,20) for _ in range(9)]\n",
    "print(l)"
   ]
  },
  {
   "cell_type": "code",
   "execution_count": 141,
   "metadata": {
    "collapsed": false,
    "deletable": true,
    "editable": true
   },
   "outputs": [
    {
     "name": "stdout",
     "output_type": "stream",
     "text": [
      "[8, 10, 8, 20, 2, 15, 12, 16, 12]\n"
     ]
    }
   ],
   "source": [
    "tri_fusion(l)\n",
    "print(l)"
   ]
  },
  {
   "cell_type": "markdown",
   "metadata": {
    "deletable": true,
    "editable": true
   },
   "source": [
    "Soit $\\Omega = {[\\![0,p-1]\\!]}^N$ l'ensemble des listes d'entiers entre $0$ et $p-1$, et $\\mathcal A  = \\mathcal P(\\Omega)$ la tribu discrète. On muni l'espace probabilisable $(\\Omega,\\mathcal A)$ de la mesure de probabilité uniforme:\n",
    "$$\n",
    "\\forall l\\in\\Omega\\quad \\mathbb P(\\{l\\}) = \\frac{1}{|\\Omega|} = \\frac{1}{p^N}\n",
    "$$"
   ]
  },
  {
   "cell_type": "markdown",
   "metadata": {},
   "source": [
    "Soit $X:\\Omega\\longrightarrow [\\![0,p-1]\\!]$ la variable aléatoire égale au nombre d'éléments plus petits que le pivot (l'élément d'indice $d=\\lfloor N/2\\rfloor$).\n",
    "\n",
    "On a\n",
    "$$\n",
    "\\omega \\in [X=k] \\Leftrightarrow \\left(\\exists I\\in\\mathcal P_k([\\![0,N-1]\\!]\\setminus\\{d\\})\\quad  [\\omega_i \\le \\omega_d\\Leftrightarrow i\\in I]\\right)\n",
    "$$"
   ]
  },
  {
   "cell_type": "markdown",
   "metadata": {},
   "source": [
    "On en déduit notre propabilité:\n",
    "$$\n",
    "\\mathbb P([X=k]) = \\frac{1}{p^N}\\sum_{\\omega_d=0}^{p-1} \\binom{N-1}{k} (\\omega_d+1)^k(N-\\omega_d-1)^{N-k-1}\n",
    "$$\n",
    "\n",
    "Et l'espérance:\n",
    "$$\n",
    "\\mathbb E(X) = \\sum_{k=0}^{p-1}k\\mathbb P([X=k]) = \\frac 1 {p^N}\\sum_{l=1}^p\\sum_{k=0}^{p-1} \\binom{N-1}{k}kl^k(p-l)^{N-k-1}\n",
    "$$"
   ]
  },
  {
   "cell_type": "markdown",
   "metadata": {},
   "source": [
    "La somme intérieure se calcule avec une astuce de calcul différentiel: on pose\n",
    "$$\n",
    "f(x,y) = \\sum_{k=0}^{p-1} \\binom{N-1}{k}x^ky^{N-k-1} = (x+y)^{N-1}\n",
    "$$\n",
    "\n",
    "Donc la somme intérieure correspond à $$l\\frac{\\partial f}{\\partial x}(l,p-l) = (N-1)lp^{N-2}$$"
   ]
  },
  {
   "cell_type": "markdown",
   "metadata": {},
   "source": [
    "D'où\n",
    "$$\n",
    "\\mathbb E(X) = \\frac{N-1}{p^N}\\sum_{l=1}^plp^{N-2} = \\frac{N-1}{p^2}\\frac{p(p+1)}{2} = \\frac{(N-1)(p+1)}{2p}\n",
    "$$\n",
    "\n",
    "Ce qui est équivalent à $\\dfrac{N-1}{2}$ lorsque $p$ est grand."
   ]
  }
 ],
 "metadata": {
  "kernelspec": {
   "display_name": "Python 3",
   "language": "python",
   "name": "python3"
  },
  "language_info": {
   "codemirror_mode": {
    "name": "ipython",
    "version": 3
   },
   "file_extension": ".py",
   "mimetype": "text/x-python",
   "name": "python",
   "nbconvert_exporter": "python",
   "pygments_lexer": "ipython3",
   "version": "3.5.2"
  }
 },
 "nbformat": 4,
 "nbformat_minor": 2
}
